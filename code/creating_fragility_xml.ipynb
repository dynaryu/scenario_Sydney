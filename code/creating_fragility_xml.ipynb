{
 "cells": [
  {
   "cell_type": "markdown",
   "metadata": {},
   "source": [
    "# Creating xml file for EQRM"
   ]
  },
  {
   "cell_type": "markdown",
   "metadata": {},
   "source": [
    "## Generated one xml file for EQRM"
   ]
  },
  {
   "cell_type": "code",
   "execution_count": 1,
   "metadata": {
    "collapsed": true
   },
   "outputs": [],
   "source": [
    "%matplotlib inline"
   ]
  },
  {
   "cell_type": "code",
   "execution_count": 50,
   "metadata": {
    "collapsed": false
   },
   "outputs": [],
   "source": [
    "import os, sys\n",
    "import numpy as np\n",
    "from scipy import stats\n",
    "\n",
    "import matplotlib.pyplot as plt\n",
    "import matplotlib.gridspec as gridspec\n",
    "\n",
    "import seaborn\n",
    "seaborn.set_context(\"poster\")\n",
    "\n",
    "sys.path.insert(0, '/Users/hyeuk/Projects/rmtk/rmtk')\n",
    "from parsers import vulnerability_model_converter\n",
    "from vulnerability.common import utils\n",
    "\n",
    "sys.path.insert(0, '/Users/hyeuk/Projects/scenario_Sydney/code')\n",
    "from summary_3_2 import compute_vulnerability, compute_vulnerability_retrofit\n",
    "\n"
   ]
  },
  {
   "cell_type": "code",
   "execution_count": 37,
   "metadata": {
    "collapsed": true
   },
   "outputs": [],
   "source": [
    "def write_vul_xml(vuln, flag):\n",
    "\n",
    "    csv_hdr = 'vuln_set_id,asset_cat,loss_cat,vuln_func_id,distr,imt,iml,mean_lr,stddev_lr'\n",
    "    output_vul_csv = os.path.join(output_dir, 'vul_curve_{}.csv'.format(flag))\n",
    "    output_vul_xml = os.path.join(output_dir, 'vul_curve_{}.xml'.format(flag))\n",
    "\n",
    "    with open(output_vul_csv, 'wb') as f:\n",
    "        f.write(csv_hdr +'\\n')\n",
    "\n",
    "    for bldg in bldg_classes:\n",
    "        summary_vul = np.hstack((mmi_range[:, np.newaxis], vuln[bldg][:, np.newaxis], cov_))\n",
    "        tmp_str = ','.join((vuln_set, asset_cat, loss_cat, bldg, distr, imt))\n",
    "\n",
    "        with open(output_vul_csv, 'ab') as f:\n",
    "            for line in summary_vul:\n",
    "                f.write(tmp_str +',' + ','.join([str(item) for item in line])+'\\n')\n",
    "\n",
    "    # convert csv to xml using RMTK tool\n",
    "    vulnerability_model_converter.csv_to_xml(output_vul_csv, output_vul_xml)\n",
    "\n"
   ]
  },
  {
   "cell_type": "markdown",
   "metadata": {},
   "source": [
    "Original vulnerability curves"
   ]
  },
  {
   "cell_type": "code",
   "execution_count": 52,
   "metadata": {
    "collapsed": true
   },
   "outputs": [],
   "source": [
    "mmi_range = np.arange(2.0, 10.05, 0.05)\n",
    "output_dir = '/Users/hyeuk/Projects/scenario_Sydney/input'\n",
    "\n",
    "\n",
    "cov_ = np.zeros_like(mmi_range)[:, np.newaxis]\n",
    "bldg_classes= ['Timber_Pre1945', 'Timber_Post1945', 'URM_Pre1945', 'URM_Post1945']\n",
    "\n",
    "#vuln_set_id,asset_cat,loss_cat,vuln_func_id,distr,imt,iml,mean_lr,stddev_lr\n",
    "vuln_set = 'Modfied_Tariq_2016'\n",
    "asset_cat = 'buildings'\n",
    "loss_cat = 'economic loss'\n",
    "distr = 'LN' #\n",
    "imt = 'MMI'\n"
   ]
  },
  {
   "cell_type": "code",
   "execution_count": 38,
   "metadata": {
    "collapsed": false
   },
   "outputs": [],
   "source": [
    "# original\n",
    "vul = dict()\n",
    "for bldg in bldg_classes:\n",
    "    tmp = []\n",
    "    for val in mmi_range:\n",
    "        tmp.append(compute_vulnerability(val, bldg))\n",
    "    vul[bldg] = np.array(tmp)\n"
   ]
  },
  {
   "cell_type": "code",
   "execution_count": 39,
   "metadata": {
    "collapsed": false
   },
   "outputs": [],
   "source": [
    "write_vul_xml(vul, 'current')"
   ]
  },
  {
   "cell_type": "markdown",
   "metadata": {},
   "source": [
    "Retrofitted "
   ]
  },
  {
   "cell_type": "code",
   "execution_count": 25,
   "metadata": {
    "collapsed": false
   },
   "outputs": [],
   "source": [
    "# retrofitted\n",
    "retrofitted = dict()\n",
    "for bldg in bldg_classes:\n",
    "    tmp = []\n",
    "    for val in mmi_range:\n",
    "        tmp.append(compute_vulnerability_retrofit(val, bldg))\n",
    "    retrofitted[bldg] = np.array(tmp)\n"
   ]
  },
  {
   "cell_type": "code",
   "execution_count": 40,
   "metadata": {
    "collapsed": false
   },
   "outputs": [],
   "source": [
    "write_vul_xml(retrofitted, 'retrofit')\n"
   ]
  },
  {
   "cell_type": "code",
   "execution_count": 58,
   "metadata": {
    "collapsed": true
   },
   "outputs": [],
   "source": [
    "from lxml import etree"
   ]
  },
  {
   "cell_type": "code",
   "execution_count": 83,
   "metadata": {
    "collapsed": false
   },
   "outputs": [
    {
     "name": "stdout",
     "output_type": "stream",
     "text": [
      "2.0 2.05 2.1 2.15 2.2 2.25 2.3 2.35 2.4 2.45 2.5 2.55 2.6 2.65 2.7 2.75 2.8 2.85 2.9 2.95 3.0 3.05 3.1 3.15 3.2 3.25 3.3 3.35 3.4 3.45 3.5 3.55 3.6 3.65 3.7 3.75 3.8 3.85 3.9 3.95 4.0 4.05 4.1 4.15 4.2 4.25 4.3 4.35 4.4 4.45 4.5 4.55 4.6 4.65 4.7 4.75 4.8 4.85 4.9 4.95 5.0 5.05 5.1 5.15 5.2 5.25 5.3 5.35 5.4 5.45 5.5 5.55 5.6 5.65 5.7 5.75 5.8 5.85 5.9 5.95 6.0 6.05 6.1 6.15 6.2 6.25 6.3 6.35 6.4 6.45 6.5 6.55 6.6 6.65 6.7 6.75 6.8 6.85 6.9 6.95 7.0 7.05 7.1 7.15 7.2 7.25 7.3 7.35 7.4 7.45 7.5 7.55 7.6 7.65 7.7 7.75 7.8 7.85 7.9 7.95 8.0 8.05 8.1 8.15 8.2 8.25 8.3 8.35 8.4 8.45 8.5 8.55 8.6 8.65 8.7 8.75 8.8 8.85 8.9 8.95 9.0 9.05 9.1 9.15 9.2 9.25 9.3 9.35 9.4 9.45 9.5 9.55 9.6 9.65 9.7 9.75 9.8 9.85 9.9 9.95 10.0\n",
      "['Timber_Post1945', 'Timber_Pre1945', 'URM_Post1945', 'URM_Pre1945']\n"
     ]
    }
   ],
   "source": [
    "xml_file = os.path.join(output_dir, 'vul_curve_current.xml')\n",
    "\n",
    "xmlNRML='{http://openquake.org/xmlns/nrml/0.4}'\n",
    "xmlGML = '{http://www.opengis.net/gml}'\n",
    "\n",
    "def parseVulnerabilitySet(element):\n",
    "    taxonomies, iml = [], []\n",
    "    for subElement in element.iter():\n",
    "        #print subElement\n",
    "        if subElement.tag == '%sdiscreteVulnerability' % xmlNRML:\n",
    "            taxonomies.append(subElement.attrib.get('vulnerabilityFunctionID'))\n",
    "            #loss_Ratio.append(subElement.attrib.get('lossRatio'))\n",
    "        elif subElement.tag == '%sIML' % xmlNRML:\n",
    "            print subElement.text\n",
    "            #print '{} !'.format(subElement)\n",
    "        else:\n",
    "            continue\n",
    "\n",
    "    #print iml            \n",
    "    return taxonomies\n",
    "\n",
    "taxonomies = []\n",
    "for _, element in etree.iterparse(xml_file):\n",
    "    if element.tag == '%sdiscreteVulnerabilitySet' % xmlNRML:\n",
    "        parseVulnerabilitySet(element)\n",
    "        print subTaxonomies\n",
    "        for subTaxonomy in subTaxonomies:\n",
    "            taxonomies.append(subTaxonomy)\n",
    "        else:\n",
    "            continue\n"
   ]
  },
  {
   "cell_type": "code",
   "execution_count": 54,
   "metadata": {
    "collapsed": false
   },
   "outputs": [
    {
     "data": {
      "text/plain": [
       "<function iter>"
      ]
     },
     "execution_count": 54,
     "metadata": {},
     "output_type": "execute_result"
    }
   ],
   "source": [
    "doc.iter"
   ]
  },
  {
   "cell_type": "code",
   "execution_count": 55,
   "metadata": {
    "collapsed": false
   },
   "outputs": [
    {
     "data": {
      "text/plain": [
       "<lxml.etree.ElementDepthFirstIterator at 0x10af63eb0>"
      ]
     },
     "execution_count": 55,
     "metadata": {},
     "output_type": "execute_result"
    }
   ],
   "source": [
    "doc.iter()"
   ]
  },
  {
   "cell_type": "code",
   "execution_count": null,
   "metadata": {
    "collapsed": true
   },
   "outputs": [],
   "source": []
  }
 ],
 "metadata": {
  "kernelspec": {
   "display_name": "Python 2",
   "language": "python",
   "name": "python2"
  },
  "language_info": {
   "codemirror_mode": {
    "name": "ipython",
    "version": 2
   },
   "file_extension": ".py",
   "mimetype": "text/x-python",
   "name": "python",
   "nbconvert_exporter": "python",
   "pygments_lexer": "ipython2",
   "version": "2.7.10"
  }
 },
 "nbformat": 4,
 "nbformat_minor": 0
}
