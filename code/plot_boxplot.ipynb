{
 "cells": [
  {
   "cell_type": "markdown",
   "metadata": {},
   "source": [
    "Plots"
   ]
  },
  {
   "cell_type": "code",
   "execution_count": 14,
   "metadata": {
    "collapsed": true
   },
   "outputs": [],
   "source": [
    "%matplotlib inline\n",
    "import matplotlib.pyplot as plt\n",
    "from matplotlib import pylab\n",
    "# make plot identical to terminal\n",
    "pylab.rcParams['figure.figsize']=(8.0,6.0)    #(6.0,4.0)\n",
    "pylab.rcParams['font.size']=12                #10 \n",
    "pylab.rcParams['savefig.dpi']=150             #72 \n",
    "pylab.rcParams['figure.subplot.bottom']=.1    #.125"
   ]
  },
  {
   "cell_type": "code",
   "execution_count": 18,
   "metadata": {
    "collapsed": false
   },
   "outputs": [],
   "source": [
    "import pandas as pd\n",
    "import numpy as np"
   ]
  },
  {
   "cell_type": "markdown",
   "metadata": {},
   "source": [
    "Casualty etimation"
   ]
  },
  {
   "cell_type": "code",
   "execution_count": 4,
   "metadata": {
    "collapsed": false
   },
   "outputs": [],
   "source": [
    "casualty_retro = pd.read_csv('../data/casualty_number_retrofit.csv')\n",
    "casualty = pd.read_csv('../data/casualty_number.csv')"
   ]
  },
  {
   "cell_type": "markdown",
   "metadata": {},
   "source": [
    "Casualty etimation -- original vulnerability"
   ]
  },
  {
   "cell_type": "code",
   "execution_count": 31,
   "metadata": {
    "collapsed": false,
    "scrolled": true
   },
   "outputs": [],
   "source": [
    "plt.figure()\n",
    "for i in range(1, 5):\n",
    "    plt.subplot(1, 4, i)\n",
    "    str_ = 'Severity' + str(i)\n",
    "    plt.boxplot(casualty[str_])\n",
    "    str_ = 'Severity ' + str(i)\n",
    "    plt.xticks([1], [str_])\n",
    "\n",
    "plt.tight_layout()\n",
    "#plt.savefig('../plot/boxplot_casualty_1.png', bbox_inches='tight')\n",
    "plt.close()\n"
   ]
  },
  {
   "cell_type": "markdown",
   "metadata": {
    "collapsed": false
   },
   "source": [
    "casualty estimation -- retrofitted vulnerability"
   ]
  },
  {
   "cell_type": "code",
   "execution_count": 30,
   "metadata": {
    "collapsed": false,
    "scrolled": true
   },
   "outputs": [],
   "source": [
    "plt.figure()\n",
    "for i in range(1, 5):\n",
    "    plt.subplot(1, 4, i)\n",
    "    str_ = 'Severity' + str(i)\n",
    "    plt.boxplot(np.hstack((casualty[str_].values[:,np.newaxis], casualty_retro[str_].values[:,np.newaxis])))\n",
    "    str_ = 'Severity ' + str(i)\n",
    "    plt.title(str_)\n",
    "    plt.xticks([1, 2], ['As-is','Retrofitted'])\n",
    "\n",
    "plt.tight_layout()\n",
    "#plt.savefig('../plot/boxplot_casualty_comparison.png', bbox_inches='tight')\n",
    "plt.close()"
   ]
  },
  {
   "cell_type": "markdown",
   "metadata": {},
   "source": [
    "mean loss ratio "
   ]
  },
  {
   "cell_type": "code",
   "execution_count": 33,
   "metadata": {
    "collapsed": false
   },
   "outputs": [],
   "source": [
    "loss = pd.read_csv('../data/loss_ratio_by_bldg.csv')\n",
    "loss_retro = pd.read_csv('../data/loss_ratio_by_bldg_retrofit.csv')"
   ]
  },
  {
   "cell_type": "code",
   "execution_count": 36,
   "metadata": {
    "collapsed": false
   },
   "outputs": [
    {
     "name": "stderr",
     "output_type": "stream",
     "text": [
      "/Users/hyeuk/anaconda/lib/python2.7/site-packages/pandas/core/indexing.py:249: SettingWithCopyWarning: \n",
      "A value is trying to be set on a copy of a slice from a DataFrame.\n",
      "Try using .loc[row_indexer,col_indexer] = value instead\n",
      "\n",
      "See the the caveats in the documentation: http://pandas.pydata.org/pandas-docs/stable/indexing.html#indexing-view-versus-copy\n",
      "  self.obj[key] = _infer_fill_value(value)\n",
      "/Users/hyeuk/anaconda/lib/python2.7/site-packages/pandas/core/indexing.py:415: SettingWithCopyWarning: \n",
      "A value is trying to be set on a copy of a slice from a DataFrame.\n",
      "Try using .loc[row_indexer,col_indexer] = value instead\n",
      "\n",
      "See the the caveats in the documentation: http://pandas.pydata.org/pandas-docs/stable/indexing.html#indexing-view-versus-copy\n",
      "  self.obj[item] = s\n"
     ]
    }
   ],
   "source": [
    "new = loss[['BLDG_CLASS', 'LOSS_RATIO']]\n",
    "new.loc[range(len(new)),'type'] = 'As-is'\n",
    "old = loss_retro[['BLDG_CLASS', 'LOSS_RATIO']]\n",
    "old.loc[range(len(old)),'type'] = 'Retrofitted'\n",
    "big_data = old.append(new, ignore_index=True)\n"
   ]
  },
  {
   "cell_type": "code",
   "execution_count": 38,
   "metadata": {
    "collapsed": false,
    "scrolled": true
   },
   "outputs": [
    {
     "data": {
      "text/html": [
       "<div>\n",
       "<table border=\"1\" class=\"dataframe\">\n",
       "  <thead>\n",
       "    <tr style=\"text-align: right;\">\n",
       "      <th></th>\n",
       "      <th>BLDG_CLASS</th>\n",
       "      <th>LOSS_RATIO</th>\n",
       "      <th>type</th>\n",
       "    </tr>\n",
       "  </thead>\n",
       "  <tbody>\n",
       "    <tr>\n",
       "      <th>1933741</th>\n",
       "      <td>Timber_Post1945</td>\n",
       "      <td>8.493244e-07</td>\n",
       "      <td>As-is</td>\n",
       "    </tr>\n",
       "    <tr>\n",
       "      <th>1933742</th>\n",
       "      <td>Timber_Post1945</td>\n",
       "      <td>3.570768e-07</td>\n",
       "      <td>As-is</td>\n",
       "    </tr>\n",
       "    <tr>\n",
       "      <th>1933743</th>\n",
       "      <td>Timber_Post1945</td>\n",
       "      <td>6.142908e-07</td>\n",
       "      <td>As-is</td>\n",
       "    </tr>\n",
       "    <tr>\n",
       "      <th>1933744</th>\n",
       "      <td>Timber_Post1945</td>\n",
       "      <td>3.861825e-07</td>\n",
       "      <td>As-is</td>\n",
       "    </tr>\n",
       "    <tr>\n",
       "      <th>1933745</th>\n",
       "      <td>URM_Post1945</td>\n",
       "      <td>1.295867e-06</td>\n",
       "      <td>As-is</td>\n",
       "    </tr>\n",
       "  </tbody>\n",
       "</table>\n",
       "</div>"
      ],
      "text/plain": [
       "              BLDG_CLASS    LOSS_RATIO   type\n",
       "1933741  Timber_Post1945  8.493244e-07  As-is\n",
       "1933742  Timber_Post1945  3.570768e-07  As-is\n",
       "1933743  Timber_Post1945  6.142908e-07  As-is\n",
       "1933744  Timber_Post1945  3.861825e-07  As-is\n",
       "1933745     URM_Post1945  1.295867e-06  As-is"
      ]
     },
     "execution_count": 38,
     "metadata": {},
     "output_type": "execute_result"
    }
   ],
   "source": [
    "big_data.tail()"
   ]
  },
  {
   "cell_type": "code",
   "execution_count": 43,
   "metadata": {
    "collapsed": false
   },
   "outputs": [],
   "source": [
    "for item, grouped in big_data.groupby('BLDG_CLASS'):\n",
    "    grouped.boxplot(by='type', figsize=(4, 6))\n",
    "    plt.suptitle(\"\")\n",
    "    plt.title(item.replace('_',', '))\n",
    "    plt.xlabel(\"\")\n",
    "    plt.ylabel(\"Loss ratio\")\n",
    "    plt.tight_layout()\n",
    "    file_ = '../plot/boxplot_loss_' + item + '.png'\n",
    "    #plt.savefig(file_, bbox_inches='tight')\n",
    "    plt.close()\n"
   ]
  },
  {
   "cell_type": "code",
   "execution_count": null,
   "metadata": {
    "collapsed": true
   },
   "outputs": [],
   "source": []
  }
 ],
 "metadata": {
  "kernelspec": {
   "display_name": "Python 2",
   "language": "python",
   "name": "python2"
  },
  "language_info": {
   "codemirror_mode": {
    "name": "ipython",
    "version": 2
   },
   "file_extension": ".py",
   "mimetype": "text/x-python",
   "name": "python",
   "nbconvert_exporter": "python",
   "pygments_lexer": "ipython2",
   "version": "2.7.10"
  }
 },
 "nbformat": 4,
 "nbformat_minor": 0
}
