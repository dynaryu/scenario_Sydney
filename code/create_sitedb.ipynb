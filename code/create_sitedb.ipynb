{
 "cells": [
  {
   "cell_type": "markdown",
   "metadata": {},
   "source": [
    "# Create building exposure data for EQRM simulation"
   ]
  },
  {
   "cell_type": "code",
   "execution_count": 1,
   "metadata": {
    "collapsed": true
   },
   "outputs": [],
   "source": [
    "import pandas as pd\n",
    "import os\n",
    "\n",
    "working_path = os.path.join(os.path.expanduser(\"~\"),'Projects/scenario_Sydney')\n",
    "#eqrm_input_path = os.path.join(working_path, 'input')\n",
    "#eqrm_output_path = os.path.join(working_path, 'scen_gmMw5.0')\n",
    "data_path = os.path.join(working_path, 'data')"
   ]
  },
  {
   "cell_type": "markdown",
   "metadata": {},
   "source": [
    "## Read NSW building data"
   ]
  },
  {
   "cell_type": "code",
   "execution_count": 2,
   "metadata": {
    "collapsed": false
   },
   "outputs": [],
   "source": [
    "try:   \n",
    "    nsw = pd.read_csv('/Volumes/NTFS/NSW_EQRMrevised_NEXIS2015.csv')\n",
    "except IOError:\n",
    "    nsw = pd.read_csv('/media/hyeuk/NTFS/NSW_EQRMrevised_NEXIS2015.csv')\n",
    "except IOError:\n",
    "    print \"No USB\"\n"
   ]
  },
  {
   "cell_type": "markdown",
   "metadata": {},
   "source": [
    "## Read the admin boundary of Greater Sydney"
   ]
  },
  {
   "cell_type": "code",
   "execution_count": 13,
   "metadata": {
    "collapsed": false
   },
   "outputs": [],
   "source": [
    "import shapefile\n",
    "\n",
    "sf = shapefile.Reader(os.path.join(working_path, 'data/GCCSA_2011_AUST.shp'))\n",
    "shapes = sf.shapes()\n",
    "records = sf.records()\n",
    "#records[2] corresponds to the Greater Sydney\n",
    "\n",
    "from shapely.geometry import Polygon\n",
    "from shapely.geometry import Point\n",
    "sydney_boundary = Polygon(shapes[2].points)\n",
    "\n",
    "tf_sydney = np.zeros(len(nsw), dtype=bool)\n",
    "\n",
    "for i in range(len(nsw)):\n",
    "    point_ = Point(nsw.ix[i]['LONGITUDE'], nsw.ix[i]['LATITUDE'])\n",
    "    tf_sydney[i] = sydney_boundary.contains(point_)\n"
   ]
  },
  {
   "cell_type": "markdown",
   "metadata": {},
   "source": [
    "Read the list of old suburbs"
   ]
  },
  {
   "cell_type": "code",
   "execution_count": 2,
   "metadata": {
    "collapsed": true
   },
   "outputs": [],
   "source": [
    "suburb_vintage = pd.read_excel(os.path.join(\n",
    "        data_path, 'List_of_Sydney_postcodes.xlsx'), sheetname=\"Postcodes-Suburbs\", skiprows=1)\n",
    "idx_old_suburbs = pd.notnull(suburb_vintage['Alexandra Canal?'])\n",
    "old_suburbs = suburb_vintage.ix[idx_old_suburbs]['Suburbs'].str.upper()"
   ]
  },
  {
   "cell_type": "code",
   "execution_count": 11,
   "metadata": {
    "collapsed": false
   },
   "outputs": [],
   "source": [
    "#zip_code = pd.read_excel(os.path.join(\n",
    "#        data_path, 'List_of_Sydney_postcodes.xlsx'), sheetname=\"Postcodes\", skiprows=1)\n"
   ]
  },
  {
   "cell_type": "code",
   "execution_count": null,
   "metadata": {
    "collapsed": true
   },
   "outputs": [],
   "source": [
    "#sydney = nsw.loc[nsw['POSTCODE'].isin(zip_code['Postcodes'])]\n",
    "#sydney = sydney.drop('SA1_CODE',1)\n",
    "\n"
   ]
  },
  {
   "cell_type": "markdown",
   "metadata": {},
   "source": [
    "Make sure that all of the old suburbs are included in the database. Otherwise there musht be some error."
   ]
  },
  {
   "cell_type": "code",
   "execution_count": 8,
   "metadata": {
    "collapsed": false
   },
   "outputs": [
    {
     "data": {
      "text/plain": [
       "array([u'Dawes Point', u'Haymarket', u'Millers Point', u'The Rocks',\n",
       "       u'Ultimo', u'Chippendale', u'Darlington', u'Golden Grove',\n",
       "       u'Darling Island', u'Pyrmont', u'Darlinghurst', u'Surry Hills',\n",
       "       u'Taylor Square', u'Elizabeth Bay', u'Hmas Kuttabul',\n",
       "       u'Kings Cross', u'Potts Point', u'Rushcutters Bay',\n",
       "       u'Woolloomooloo', u'Alexandria', u'Beaconsfield', u'Eveleigh',\n",
       "       u'Redfern', u'Waterloo', u'Zetland', u'Eastlakes', u'Roseberry',\n",
       "       u'Banksmeadow', u'Botany', u'Mascot', u'Centennial Park',\n",
       "       u'Moore Park', u'Paddington', u'Queens Park', u'Bronte',\n",
       "       u'Charing Cross', u'Waverley', u'Darling Point', u'Edgecliff',\n",
       "       u'Hmas Rushcutters', u'Point Piper', u'Kensington', u'Forest Lodge',\n",
       "       u'Glebe', u'Annandale', u'Rozelle', u'Leichhardt', u'Lilyfield',\n",
       "       u'Balmain', u'Balmain East', u'Birchgorve', u'Enmore', u'Newtown',\n",
       "       u'Erskineville', u'St Peters', u'Sydenham', u'Tempe', u'Haberfield',\n",
       "       u'Abbotsford', u'Canada Bay', u'Chiswick', u'Five Dock',\n",
       "       u'Rodd Point', u'Russell Lea', u'Wareemba', u'Drummoyne',\n",
       "       u'Stanmore', u'Westgate', u'Lewisham', u'Petersham',\n",
       "       u'Petersham North', u'Camperdown', u'North Sydney', u'North Sydney',\n",
       "       u'Lavender Bay', u'Mcmahons Point', u'North Sydney', u'Kirribilli',\n",
       "       u'Milsons Point', u'Summer Hill', u'Ashfield', u'Croydon',\n",
       "       u'Croydon park', u'Enfield South', u'Burwood', u'Strathfield',\n",
       "       u'Ashbury', u'Canterbury', u'Hurlstone Park', u'Campsie',\n",
       "       u'Dulwich Hill', u'Marrickville', u'Marrickville Metro',\n",
       "       u'Marrickville South'], dtype=object)"
      ]
     },
     "execution_count": 8,
     "metadata": {},
     "output_type": "execute_result"
    }
   ],
   "source": [
    "suburb_vintage.ix[idx_old_suburbs]['Suburbs']"
   ]
  },
  {
   "cell_type": "code",
   "execution_count": 3,
   "metadata": {
    "collapsed": false
   },
   "outputs": [
    {
     "data": {
      "text/plain": [
       "array([u'Dawes Point', u'Haymarket', u'Millers Point', u'The Rocks',\n",
       "       u'Ultimo', u'Chippendale', u'Darlington', u'Golden Grove',\n",
       "       u'Darling Island', u'Pyrmont', u'Darlinghurst', u'Surry Hills',\n",
       "       u'Taylor Square', u'Elizabeth Bay', u'Hmas Kuttabul',\n",
       "       u'Kings Cross', u'Potts Point', u'Rushcutters Bay',\n",
       "       u'Woolloomooloo', u'Alexandria', u'Beaconsfield', u'Eveleigh',\n",
       "       u'Redfern', u'Waterloo', u'Zetland', u'Eastlakes', u'Roseberry',\n",
       "       u'Banksmeadow', u'Botany', u'Mascot', u'Centennial Park',\n",
       "       u'Moore Park', u'Paddington', u'Queens Park', u'Bronte',\n",
       "       u'Charing Cross', u'Waverley', u'Darling Point', u'Edgecliff',\n",
       "       u'Hmas Rushcutters', u'Point Piper', u'Kensington', u'Forest Lodge',\n",
       "       u'Glebe', u'Annandale', u'Rozelle', u'Leichhardt', u'Lilyfield',\n",
       "       u'Balmain', u'Balmain East', u'Birchgorve', u'Enmore', u'Newtown',\n",
       "       u'Erskineville', u'St Peters', u'Sydenham', u'Tempe', u'Haberfield',\n",
       "       u'Abbotsford', u'Canada Bay', u'Chiswick', u'Five Dock',\n",
       "       u'Rodd Point', u'Russell Lea', u'Wareemba', u'Drummoyne',\n",
       "       u'Stanmore', u'Westgate', u'Lewisham', u'Petersham',\n",
       "       u'Petersham North', u'Camperdown', u'North Sydney', u'Lavender Bay',\n",
       "       u'Mcmahons Point', u'Kirribilli', u'Milsons Point', u'Summer Hill',\n",
       "       u'Ashfield', u'Croydon', u'Croydon park', u'Enfield South',\n",
       "       u'Burwood', u'Strathfield', u'Ashbury', u'Canterbury',\n",
       "       u'Hurlstone Park', u'Campsie', u'Dulwich Hill', u'Marrickville',\n",
       "       u'Marrickville Metro', u'Marrickville South'], dtype=object)"
      ]
     },
     "execution_count": 3,
     "metadata": {},
     "output_type": "execute_result"
    }
   ],
   "source": [
    "ndat.to_csv('./.csv', index=False)\n"
   ]
  },
  {
   "cell_type": "markdown",
   "metadata": {},
   "source": [
    "### apply building mixture signature extracted from Alexandria canal survey to the old suburbs"
   ]
  },
  {
   "cell_type": "code",
   "execution_count": null,
   "metadata": {
    "collapsed": true
   },
   "outputs": [],
   "source": [
    "# Final value suggested by Mark based on the Alexandra canal survey\n",
    "#        Pre-1945, Post-1945\n",
    "# Timber 0.002, 0.080\n",
    "# URM    0.804, 0.114                     \n",
    "bldg_mixture = {'Timber_Pre1945': 0.002, 'Timber_Post1945': 0.080,\n",
    "                'URM_pre1945': 0.804, 'URM_Post1945': 0.114}\n",
    "np.random.choice(bldg_mixture.keys(), 100, p=bldg_mixture.values())"
   ]
  }
 ],
 "metadata": {
  "kernelspec": {
   "display_name": "Python 2",
   "language": "python",
   "name": "python2"
  },
  "language_info": {
   "codemirror_mode": {
    "name": "ipython",
    "version": 2
   },
   "file_extension": ".py",
   "mimetype": "text/x-python",
   "name": "python",
   "nbconvert_exporter": "python",
   "pygments_lexer": "ipython2",
   "version": "2.7.10"
  }
 },
 "nbformat": 4,
 "nbformat_minor": 0
}
